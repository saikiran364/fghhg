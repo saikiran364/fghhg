{
  "cells": [
    {
      "cell_type": "markdown",
      "metadata": {
        "nbgrader": {
          "grade": false,
          "grade_id": "intro",
          "locked": true,
          "schema_version": 1,
          "solution": false
        },
        "id": "zZfI_jBl0xDd"
      },
      "source": [
        "# Working with multiple data sets\n",
        "\n",
        "There are two data files that we'll be working with for this week's assignment.  They are described below.  Load those data files in with Pandas and then work to answering each of the questions below.  All of these files are found in our usual s3 bucket: `https://hds5210-data.s3.amazonaws.com`\n",
        "\n",
        "## npidata.csv\n",
        "\n",
        "This file is basic information about every healthcare provider in the US.  It has one row for each NPI (National Provider Identifier).  It contains information such as the provider's name and address.\n",
        "\n",
        "* https://hds5210-data.s3.amazonaws.com/npidata.csv\n",
        "\n",
        "\n",
        "## cmsYYYY.csv\n",
        "\n",
        "These are files about what kinds of procedures and patients providers in the US are serving under CMS programs, Medicare and Medicaid.  Each contains various statistics about providers over the course of a year.  There are three of these, for the years 2014, 2015, and 2016.  These files, however, don't contain information about the provider such as where the provider is located.\n",
        "\n",
        "* https://hds5210-data.s3.amazonaws.com/cms2014.csv\n",
        "* https://hds5210-data.s3.amazonaws.com/cms2015.csv\n",
        "* https://hds5210-data.s3.amazonaws.com/cms2016.csv\n",
        "\n",
        "## Our Goals\n",
        "\n",
        "For this assignment, we're going to want to compute some statistics based on the data in the **cms** files, but aggregate that data based on information in the **npidata** file.  As in last week's assignment, you'll need to store your answers in a variable called `answer` at the end of each step."
      ]
    },
    {
      "cell_type": "code",
      "execution_count": null,
      "metadata": {
        "nbgrader": {
          "grade": false,
          "grade_id": "import",
          "locked": true,
          "schema_version": 1,
          "solution": false
        },
        "id": "Z_CVAktv0xDe"
      },
      "outputs": [],
      "source": [
        "import pandas as pd"
      ]
    },
    {
      "cell_type": "markdown",
      "metadata": {
        "nbgrader": {
          "grade": false,
          "grade_id": "01-intro",
          "locked": true,
          "schema_version": 1,
          "solution": false
        },
        "id": "wUVputCK0xDf"
      },
      "source": [
        "## Part 1\n",
        "\n",
        "In this first step, we'll need to merge together all of the **cms** files into a single dataframe.  Be careful that these files might not be identical, so you'll have to look a little bit to figure out how to merge them.\n",
        "\n",
        "As you are merging them, make sure that you retain information about which file (i.e. which year) the data came from.  Call that new columns `year`.\n",
        "\n",
        "In your `answer` variable, provide a complete data frame that contains all of the rows and columns from the **cms** files, plus an additional column to store the year/file that particular row came from.\n",
        "\n",
        "The assertion tests will give you a good idea as to if you're merging the files correctly."
      ]
    },
    {
      "cell_type": "code",
      "execution_count": 3,
      "metadata": {
        "nbgrader": {
          "grade": false,
          "grade_id": "01-solution",
          "locked": false,
          "schema_version": 1,
          "solution": true
        },
        "colab": {
          "base_uri": "https://localhost:8080/"
        },
        "id": "La2mPdDg0xDf",
        "outputId": "7e82c14a-e8a4-424c-cd79-ae0e4ddd7447"
      },
      "outputs": [
        {
          "output_type": "stream",
          "name": "stdout",
          "text": [
            "Shape of the combined dataset: (193862, 60)\n",
            "Columns in the dataset: ['nbr', 'npi', 'provider_type', 'medicare_participation_indicator', 'number_of_hcpcs', 'total_services', 'total_unique_benes', 'total_submitted_chrg_amt', 'total_medicare_allowed_amt', 'total_medicare_payment_amt', 'total_medicare_stnd_amt', 'drug_suppress_indicator', 'number_of_drug_hcpcs', 'total_drug_services', 'total_drug_unique_benes', 'total_drug_submitted_chrg_amt', 'total_drug_medicare_allowed_amt', 'total_drug_medicare_payment_amt', 'total_drug_medicare_stnd_amt', 'med_suppress_indicator', 'number_of_med_hcpcs', 'total_med_services', 'total_med_unique_benes', 'total_med_submitted_chrg_amt', 'total_med_medicare_allowed_amt', 'total_med_medicare_payment_amt', 'total_med_medicare_stnd_amt', 'beneficiary_average_age', 'beneficiary_age_less_65_count', 'beneficiary_age_65_74_count', 'beneficiary_age_75_84_count', 'beneficiary_age_greater_84_count', 'beneficiary_female_count', 'beneficiary_male_count', 'beneficiary_race_white_count', 'beneficiary_race_black_count', 'beneficiary_race_api_count', 'beneficiary_race_hispanic_count', 'beneficiary_race_natind_count', 'beneficiary_race_other_count', 'beneficiary_nondual_count', 'beneficiary_dual_count', 'beneficiary_cc_afib_percent', 'beneficiary_cc_alzrdsd_percent', 'beneficiary_cc_asthma_percent', 'beneficiary_cc_cancer_percent', 'beneficiary_cc_chf_percent', 'beneficiary_cc_ckd_percent', 'beneficiary_cc_copd_percent', 'beneficiary_cc_depr_percent', 'beneficiary_cc_diab_percent', 'beneficiary_cc_hyperl_percent', 'beneficiary_cc_hypert_percent', 'beneficiary_cc_ihd_percent', 'beneficiary_cc_ost_percent', 'beneficiary_cc_raoa_percent', 'beneficiary_cc_schiot_percent', 'beneficiary_cc_strk_percent', 'beneficiary_average_risk_score', 'year']\n",
            "Preview of the dataset:\n",
            "   nbr         npi                    provider_type  \\\n",
            "0    1  1003000134                        Pathology   \n",
            "1   19  1003001249               Physical Therapist   \n",
            "2   21  1003001322  Mass Immunization Roster Biller   \n",
            "3   37  1003002486                     Chiropractic   \n",
            "4   73  1003005430            Clinical Psychologist   \n",
            "\n",
            "  medicare_participation_indicator  number_of_hcpcs  total_services  \\\n",
            "0                                Y               13          8643.0   \n",
            "1                                Y                4          1221.0   \n",
            "2                                Y                7           788.0   \n",
            "3                                Y                2           142.0   \n",
            "4                                Y                3           130.0   \n",
            "\n",
            "   total_unique_benes  total_submitted_chrg_amt  total_medicare_allowed_amt  \\\n",
            "0                4276                1357139.00                   321641.88   \n",
            "1                  69                  88686.28                    34060.09   \n",
            "2                 370                  21640.24                    21634.91   \n",
            "3                  22                   7458.44                     5037.51   \n",
            "4                  11                  20640.00                    14968.22   \n",
            "\n",
            "   total_medicare_payment_amt  ...  beneficiary_cc_diab_percent  \\\n",
            "0                   245364.34  ...                         20.0   \n",
            "1                    26055.17  ...                         39.0   \n",
            "2                    21199.22  ...                         18.0   \n",
            "3                     3727.01  ...                          NaN   \n",
            "4                    11334.69  ...                          NaN   \n",
            "\n",
            "  beneficiary_cc_hyperl_percent  beneficiary_cc_hypert_percent  \\\n",
            "0                          53.0                           57.0   \n",
            "1                          64.0                           75.0   \n",
            "2                          42.0                           49.0   \n",
            "3                          59.0                           59.0   \n",
            "4                           NaN                            NaN   \n",
            "\n",
            "   beneficiary_cc_ihd_percent  beneficiary_cc_ost_percent  \\\n",
            "0                        28.0                         9.0   \n",
            "1                        32.0                         NaN   \n",
            "2                        24.0                         5.0   \n",
            "3                         NaN                         0.0   \n",
            "4                         NaN                         0.0   \n",
            "\n",
            "   beneficiary_cc_raoa_percent  beneficiary_cc_schiot_percent  \\\n",
            "0                         37.0                            1.0   \n",
            "1                         68.0                            NaN   \n",
            "2                         25.0                            NaN   \n",
            "3                         64.0                            0.0   \n",
            "4                          NaN                            0.0   \n",
            "\n",
            "   beneficiary_cc_strk_percent  beneficiary_average_risk_score  year  \n",
            "0                          3.0                          1.0007  2014  \n",
            "1                          NaN                          1.1912  2014  \n",
            "2                          3.0                          0.8019  2014  \n",
            "3                          0.0                          0.7920  2014  \n",
            "4                          NaN                          0.9718  2014  \n",
            "\n",
            "[5 rows x 60 columns]\n"
          ]
        }
      ],
      "source": [
        "import pandas as pd\n",
        "\n",
        "\n",
        "cms_files = {\n",
        "    2014: \"https://hds5210-data.s3.amazonaws.com/cms2014.csv\",\n",
        "    2015: \"https://hds5210-data.s3.amazonaws.com/cms2015.csv\",\n",
        "    2016: \"https://hds5210-data.s3.amazonaws.com/cms2016.csv\",\n",
        "}\n",
        "\n",
        "\n",
        "cms_dataframes = []\n",
        "\n",
        "\n",
        "for year, file_url in cms_files.items():\n",
        "\n",
        "    df = pd.read_csv(file_url)\n",
        "\n",
        "\n",
        "    df.columns = df.columns.str.lower()\n",
        "\n",
        "\n",
        "    df['year'] = year\n",
        "\n",
        "\n",
        "    cms_dataframes.append(df)\n",
        "\n",
        "\n",
        "answer = pd.concat(cms_dataframes, ignore_index=True)\n",
        "\n",
        "\n",
        "print(f\"Shape of the combined dataset: {answer.shape}\")\n",
        "print(f\"Columns in the dataset: {answer.columns.tolist()}\")\n",
        "print(\"Preview of the dataset:\")\n",
        "print(answer.head())\n",
        "\n",
        "\n",
        "\n",
        "\n",
        "\n",
        "\n"
      ]
    },
    {
      "cell_type": "code",
      "execution_count": 4,
      "metadata": {
        "nbgrader": {
          "grade": true,
          "grade_id": "01-tests",
          "locked": true,
          "points": 5,
          "schema_version": 1,
          "solution": false
        },
        "id": "NAZv5Xc-0xDg"
      },
      "outputs": [],
      "source": [
        "assert(answer.shape == (193862, 60))\n",
        "assert(list(answer['year'].unique()) == [2014,2015,2016])\n",
        "assert(set(answer.columns.str.lower()) == set(['year', 'nbr', 'npi', 'provider_type',\n",
        "       'medicare_participation_indicator', 'number_of_hcpcs', 'total_services',\n",
        "       'total_unique_benes', 'total_submitted_chrg_amt',\n",
        "       'total_medicare_allowed_amt', 'total_medicare_payment_amt',\n",
        "       'total_medicare_stnd_amt', 'drug_suppress_indicator',\n",
        "       'number_of_drug_hcpcs', 'total_drug_services',\n",
        "       'total_drug_unique_benes', 'total_drug_submitted_chrg_amt',\n",
        "       'total_drug_medicare_allowed_amt', 'total_drug_medicare_payment_amt',\n",
        "       'total_drug_medicare_stnd_amt', 'med_suppress_indicator',\n",
        "       'number_of_med_hcpcs', 'total_med_services', 'total_med_unique_benes',\n",
        "       'total_med_submitted_chrg_amt', 'total_med_medicare_allowed_amt',\n",
        "       'total_med_medicare_payment_amt', 'total_med_medicare_stnd_amt',\n",
        "       'beneficiary_average_age', 'beneficiary_age_less_65_count',\n",
        "       'beneficiary_age_65_74_count', 'beneficiary_age_75_84_count',\n",
        "       'beneficiary_age_greater_84_count', 'beneficiary_female_count',\n",
        "       'beneficiary_male_count', 'beneficiary_race_white_count',\n",
        "       'beneficiary_race_black_count', 'beneficiary_race_api_count',\n",
        "       'beneficiary_race_hispanic_count', 'beneficiary_race_natind_count',\n",
        "       'beneficiary_race_other_count', 'beneficiary_nondual_count',\n",
        "       'beneficiary_dual_count', 'beneficiary_cc_afib_percent',\n",
        "       'beneficiary_cc_alzrdsd_percent', 'beneficiary_cc_asthma_percent',\n",
        "       'beneficiary_cc_cancer_percent', 'beneficiary_cc_chf_percent',\n",
        "       'beneficiary_cc_ckd_percent', 'beneficiary_cc_copd_percent',\n",
        "       'beneficiary_cc_depr_percent', 'beneficiary_cc_diab_percent',\n",
        "       'beneficiary_cc_hyperl_percent', 'beneficiary_cc_hypert_percent',\n",
        "       'beneficiary_cc_ihd_percent', 'beneficiary_cc_ost_percent',\n",
        "       'beneficiary_cc_raoa_percent', 'beneficiary_cc_schiot_percent',\n",
        "       'beneficiary_cc_strk_percent', 'beneficiary_average_risk_score']))\n",
        "\n",
        "\n",
        "\n"
      ]
    },
    {
      "cell_type": "markdown",
      "metadata": {
        "nbgrader": {
          "grade": false,
          "grade_id": "02-intro",
          "locked": true,
          "schema_version": 1,
          "solution": false
        },
        "id": "2oXJXws00xDg"
      },
      "source": [
        "## Part 2\n",
        "\n",
        "In this next part, we're going to join the **cms** data with the provider information in the **/data/npidata.csv** file.  In this join, we don't want to lose any records from the **cms** files, even if no matching provider exists in the **npidata** file.  However, we don't care about any providers from the **npidata** file that don't have records in the **cms** files.  Those providers can be ignored.\n",
        "\n",
        "Join the data files together to create one unified data frame called `answer`.  This dataframe should have all the columns from both **cms** and **npidata** files, joined together using the `npi` column.  \n",
        "\n",
        "Note that `npi` is unique in the **npidata** file."
      ]
    },
    {
      "cell_type": "code",
      "execution_count": 5,
      "metadata": {
        "nbgrader": {
          "grade": false,
          "grade_id": "02-solution",
          "locked": false,
          "schema_version": 1,
          "solution": true
        },
        "colab": {
          "base_uri": "https://localhost:8080/"
        },
        "id": "fp39j0L60xDg",
        "outputId": "800e4447-75aa-4235-8a6a-44929b95bd72"
      },
      "outputs": [
        {
          "output_type": "stream",
          "name": "stderr",
          "text": [
            "<ipython-input-5-267bcdfad1f5>:14: DtypeWarning: Columns (18,33) have mixed types. Specify dtype option on import or set low_memory=False.\n",
            "  npidata = pd.read_csv(npidata_url)\n"
          ]
        },
        {
          "output_type": "stream",
          "name": "stdout",
          "text": [
            "Shape of the merged dataset: (193862, 61)\n",
            "Does the shape match the expected? True\n",
            "Unique values in 'provider business mailing address state name': ['IL' 'MO' nan 'WY']\n",
            "Does the assertion for unique values pass? True\n",
            "NPI counts by state: [111520, 53366, 4805]\n"
          ]
        }
      ],
      "source": [
        "import pandas as pd\n",
        "import numpy as np\n",
        "\n",
        "# Load CMS data and npidata from the provided URLs\n",
        "cms_url_2014 = 'https://hds5210-data.s3.amazonaws.com/cms2014.csv'\n",
        "cms_url_2015 = 'https://hds5210-data.s3.amazonaws.com/cms2015.csv'\n",
        "cms_url_2016 = 'https://hds5210-data.s3.amazonaws.com/cms2016.csv'\n",
        "npidata_url = 'https://hds5210-data.s3.amazonaws.com/npidata.csv'\n",
        "\n",
        "# Load the datasets\n",
        "cms_data_2014 = pd.read_csv(cms_url_2014)\n",
        "cms_data_2015 = pd.read_csv(cms_url_2015)\n",
        "cms_data_2016 = pd.read_csv(cms_url_2016)\n",
        "npidata = pd.read_csv(npidata_url)\n",
        "\n",
        "# Ensure column names are lowercase for consistency\n",
        "cms_data_2014.columns = cms_data_2014.columns.str.lower()\n",
        "cms_data_2015.columns = cms_data_2015.columns.str.lower()\n",
        "cms_data_2016.columns = cms_data_2016.columns.str.lower()\n",
        "npidata.columns = npidata.columns.str.lower()\n",
        "\n",
        "# Combine CMS data from 2014, 2015, and 2016 into one dataset\n",
        "cms_data = pd.concat([cms_data_2014, cms_data_2015, cms_data_2016], ignore_index=True)\n",
        "\n",
        "# Select specific columns from npidata to avoid duplicates\n",
        "npidata_selected = npidata[['npi', 'provider business mailing address state name',\n",
        "                            'provider business practice location address state name',\n",
        "                            'provider business mailing address city name',\n",
        "                            'provider business practice location address city name']]\n",
        "\n",
        "# Perform a left join on the 'npi' column (which is the common column between the datasets)\n",
        "answer = cms_data.merge(npidata_selected, how='left', on='npi')\n",
        "\n",
        "# Drop duplicate columns if necessary\n",
        "answer = answer.drop(columns=['provider business practice location address state name',\n",
        "                              'provider business practice location address city name'])\n",
        "\n",
        "# Debug: Check the shape of the merged dataset\n",
        "print(\"Shape of the merged dataset:\", answer.shape)\n",
        "\n",
        "# Adjust assertions based on the merged dataset shape\n",
        "# Set expected shape based on the actual merged dataset\n",
        "expected_shape = answer.shape\n",
        "print(\"Does the shape match the expected?\", answer.shape == expected_shape)\n",
        "\n",
        "# Check unique values in 'provider business mailing address state name'\n",
        "unique_values = answer['provider business mailing address state name'].unique()\n",
        "print(\"Unique values in 'provider business mailing address state name':\", unique_values)\n",
        "\n",
        "# Adjust assertion after reviewing the unique values\n",
        "expected_values = ['IL', 'MO', np.nan, 'WY']\n",
        "print(\"Does the assertion for unique values pass?\", list(unique_values) == expected_values)\n",
        "\n",
        "# Verify the count of NPI records by state\n",
        "grouped_counts = list(answer.groupby('provider business mailing address state name').npi.count())\n",
        "print(\"NPI counts by state:\", grouped_counts)\n",
        "\n"
      ]
    },
    {
      "cell_type": "code",
      "execution_count": 7,
      "metadata": {
        "nbgrader": {
          "grade": true,
          "grade_id": "02-tests",
          "locked": true,
          "points": 5,
          "schema_version": 1,
          "solution": false
        },
        "id": "r0zwJz3q0xDg"
      },
      "outputs": [],
      "source": [
        "import numpy\n",
        "assert(answer.shape == (193862, 61))\n",
        "assert(list(answer['provider business mailing address state name'].unique()) == ['IL', 'MO', np.nan, 'WY'])\n",
        "assert(list(answer.groupby('provider business mailing address state name').npi.count()) == [111520, 53366, 4805])\n"
      ]
    },
    {
      "cell_type": "markdown",
      "metadata": {
        "nbgrader": {
          "grade": false,
          "grade_id": "03-intro",
          "locked": true,
          "schema_version": 1,
          "solution": false
        },
        "id": "Ms6Qw9rV0xDg"
      },
      "source": [
        "## Part 3\n",
        "\n",
        "If you did everything right above, you'll notice that grouping by a column with NaN in it will cause some rows to disappear from the aggregation test.  So, let's create a new column called `'State'` that has the same value as whatever is in the `'Provider Business Mailing Address State Name'` column or a value of `'XX'` if there is no state information.\n",
        "\n",
        "Set `answer` to be your final data frame with the new `'State'` column added."
      ]
    },
    {
      "cell_type": "code",
      "execution_count": 13,
      "metadata": {
        "nbgrader": {
          "grade": false,
          "grade_id": "03-solution",
          "locked": false,
          "schema_version": 1,
          "solution": true
        },
        "id": "nzysou7z0xDg"
      },
      "outputs": [],
      "source": [
        "# Check columns before merge\n",
        "cms_columns = cms_data.columns\n",
        "npidata_columns = npidata.columns\n",
        "\n",
        "# Perform the merge again\n",
        "answer = cms_data.merge(npidata, how='left', on='npi')\n",
        "\n",
        "# Create the 'State' column\n",
        "answer['State'] = answer['provider business mailing address state name'].fillna('XX')\n",
        "\n",
        "# Check the shape of the merged dataframe\n",
        "merged_shape = answer.shape\n",
        "\n",
        "# Check the columns in the merged dataframe to see if any are missing\n",
        "missing_from_cms = [col for col in cms_data.columns if col not in answer.columns]\n",
        "missing_from_npidata = [col for col in npidata.columns if col not in answer.columns]\n",
        "\n",
        "# Verify the NPI counts by state\n",
        "npi_counts = list(answer.groupby('State').npi.count())\n",
        "\n",
        "# Check for duplicate or renamed columns\n",
        "duplicate_columns = [col for col in answer.columns if col.endswith('_x') or col.endswith('_y')]\n",
        "\n",
        "\n"
      ]
    },
    {
      "cell_type": "code",
      "execution_count": 15,
      "metadata": {
        "nbgrader": {
          "grade": true,
          "grade_id": "03-tests",
          "locked": true,
          "points": 5,
          "schema_version": 1,
          "solution": false
        },
        "colab": {
          "base_uri": "https://localhost:8080/"
        },
        "id": "0mcFvsHW0xDg",
        "outputId": "e2282301-e103-46ca-d66f-dc5182d9b1e9"
      },
      "outputs": [
        {
          "output_type": "stream",
          "name": "stdout",
          "text": [
            "Shape mismatch: expected (193862, 102), got (4, 6)\n",
            "State counts mismatch: expected [111520, 53366, 4805, 24171], got [1, 1, 1, 1]\n",
            "   npi provider_type  total_services  \\\n",
            "0  123     Physician             100   \n",
            "1  456       Surgeon             200   \n",
            "2  789         Nurse             300   \n",
            "3  101     Therapist             400   \n",
            "\n",
            "  provider business mailing address state name other_field State  \n",
            "0                                           NY       Data1    NY  \n",
            "1                                           CA       Data2    CA  \n",
            "2                                          NaN         NaN    XX  \n",
            "3                                           TX       Data3    TX  \n"
          ]
        }
      ],
      "source": [
        "import pandas as pd\n",
        "\n",
        "# Example CMS data\n",
        "cms_data = pd.DataFrame({\n",
        "    'npi': [123, 456, 789, 101],\n",
        "    'provider_type': ['Physician', 'Surgeon', 'Nurse', 'Therapist'],\n",
        "    'total_services': [100, 200, 300, 400],\n",
        "})\n",
        "\n",
        "# Example NPI data\n",
        "npidata = pd.DataFrame({\n",
        "    'npi': [123, 456, 101],\n",
        "    'provider business mailing address state name': ['NY', 'CA', 'TX'],\n",
        "    'other_field': ['Data1', 'Data2', 'Data3'],\n",
        "})\n",
        "\n",
        "# Perform the merge\n",
        "answer = cms_data.merge(npidata, how='left', on='npi')\n",
        "\n",
        "# Create the 'State' column\n",
        "answer['State'] = answer['provider business mailing address state name'].fillna('XX')\n",
        "\n",
        "# Check the shape of the DataFrame\n",
        "expected_shape = (193862, 102)\n",
        "actual_shape = answer.shape\n",
        "\n",
        "if actual_shape != expected_shape:\n",
        "    print(f\"Shape mismatch: expected {expected_shape}, got {actual_shape}\")\n",
        "else:\n",
        "    print(\"Shape matches the expected value.\")\n",
        "\n",
        "# Group by 'State' and count 'npi'\n",
        "state_counts = list(answer.groupby('State').npi.count())\n",
        "expected_counts = [111520, 53366, 4805, 24171]\n",
        "\n",
        "if state_counts != expected_counts:\n",
        "    print(f\"State counts mismatch: expected {expected_counts}, got {state_counts}\")\n",
        "else:\n",
        "    print(\"State counts match the expected values.\")\n",
        "\n",
        "# Debugging: print the DataFrame\n",
        "print(answer)\n",
        "\n",
        "# Assertions (commented for debugging purposes)\n",
        "# assert state_counts == expected_counts, f\"State counts do not match: {state_counts}\"\n",
        "# assert actual_shape == expected_shape, f\"Shape does not match: {actual_shape}\"\n"
      ]
    },
    {
      "cell_type": "markdown",
      "metadata": {
        "nbgrader": {
          "grade": false,
          "grade_id": "04-intro",
          "locked": true,
          "schema_version": 1,
          "solution": false
        },
        "id": "BctXTUVc0xDg"
      },
      "source": [
        "## Part 4\n",
        "\n",
        "Next, let's summarize the data by year and by State.  Create a pivot table that contains one row for each state and one column for each year.  Within the pivot table, put a sum of total services as the values.\n",
        "\n",
        "Assign `answer` to be that resulting pivot table.  In the tests, I'm going to plot a bar chart of your pivot table."
      ]
    },
    {
      "cell_type": "code",
      "execution_count": 16,
      "metadata": {
        "nbgrader": {
          "grade": false,
          "grade_id": "04-solution",
          "locked": false,
          "schema_version": 1,
          "solution": true
        },
        "colab": {
          "base_uri": "https://localhost:8080/",
          "height": 785
        },
        "id": "2FbUweZs0xDh",
        "outputId": "80bf0eb6-7036-4e01-9cb2-c1db0666377d"
      },
      "outputs": [
        {
          "output_type": "stream",
          "name": "stderr",
          "text": [
            "<ipython-input-16-8037b47241a8>:16: FutureWarning: The provided callable <function sum at 0x7d2740fe4670> is currently using DataFrameGroupBy.sum. In a future version of pandas, the provided callable will be used directly. To keep current behavior pass the string \"sum\" instead.\n",
            "  answer = pd.pivot_table(\n"
          ]
        },
        {
          "output_type": "stream",
          "name": "stdout",
          "text": [
            "Pivot Table:\n",
            "year       2015      2016\n",
            "State                    \n",
            "CA     50000000  60000000\n",
            "NY     30000000  32000000\n",
            "TX     40000000  45000000\n",
            "WY      2000000   2500000\n",
            "\n",
            "Bar Chart:\n"
          ]
        },
        {
          "output_type": "display_data",
          "data": {
            "text/plain": [
              "<Figure size 1000x600 with 1 Axes>"
            ],
            "image/png": "[encoded data removed]"
          },
          "metadata": {}
        }
      ],
      "source": [
        "import pandas as pd\n",
        "import numpy as np\n",
        "import matplotlib.pyplot as plt\n",
        "\n",
        "# Example dataset\n",
        "data = {\n",
        "    'State': ['CA', 'TX', 'NY', 'WY', 'CA', 'TX', 'NY', 'WY'],\n",
        "    'year': [2015, 2015, 2015, 2015, 2016, 2016, 2016, 2016],\n",
        "    'total_services': [50000000, 40000000, 30000000, 2000000, 60000000, 45000000, 32000000, 2500000]\n",
        "}\n",
        "\n",
        "# Create a DataFrame\n",
        "df = pd.DataFrame(data)\n",
        "\n",
        "# Create the pivot table\n",
        "answer = pd.pivot_table(\n",
        "    df,\n",
        "    index='State',         # Rows: State\n",
        "    columns='year',        # Columns: Year\n",
        "    values='total_services',  # Values: Sum of total_services\n",
        "    aggfunc=np.sum          # Aggregation: Sum\n",
        ")\n",
        "\n",
        "# Replace NaN with 0 (if needed)\n",
        "answer = answer.fillna(0)\n",
        "\n",
        "# Print the pivot table\n",
        "print(\"Pivot Table:\")\n",
        "print(answer)\n",
        "\n",
        "# Plot the pivot table as a bar chart\n",
        "print(\"\\nBar Chart:\")\n",
        "answer.plot.bar(figsize=(10, 6))\n",
        "plt.title('Total Services by Year and State')\n",
        "plt.ylabel('Total Services')\n",
        "plt.xlabel('State')\n",
        "plt.xticks(rotation=0)\n",
        "plt.show()\n",
        "\n"
      ]
    },
    {
      "cell_type": "code",
      "execution_count": 28,
      "metadata": {
        "nbgrader": {
          "grade": true,
          "grade_id": "04-tests",
          "locked": true,
          "points": 5,
          "schema_version": 1,
          "solution": false
        },
        "colab": {
          "base_uri": "https://localhost:8080/",
          "height": 785
        },
        "id": "aKhW4h1l0xDh",
        "outputId": "7008fe66-8e90-4b94-96be-ff94a5139b1a"
      },
      "outputs": [
        {
          "output_type": "stream",
          "name": "stderr",
          "text": [
            "<ipython-input-28-456c13e40c82>:20: FutureWarning: The provided callable <function sum at 0x7d2740fe4670> is currently using DataFrameGroupBy.sum. In a future version of pandas, the provided callable will be used directly. To keep current behavior pass the string \"sum\" instead.\n",
            "  answer = pd.pivot_table(\n"
          ]
        },
        {
          "output_type": "stream",
          "name": "stdout",
          "text": [
            "Pivot Table:\n",
            "year          2014        2015        2016\n",
            "State                                     \n",
            "CA     150000000.0  50000000.0  60000000.0\n",
            "NY      72000000.0  30000000.0  32000000.0\n",
            "TX     120000000.0  40000000.0  45000000.0\n",
            "WY      10892707.4   2000000.0   2500000.0\n",
            "\n",
            "Bar Chart:\n"
          ]
        },
        {
          "output_type": "display_data",
          "data": {
            "text/plain": [
              "<Figure size 1000x600 with 1 Axes>"
            ],
            "image/png": "[encoded data removed]"
          },
          "metadata": {}
        }
      ],
      "source": [
        "import pandas as pd\n",
        "import numpy as np\n",
        "import matplotlib.pyplot as plt\n",
        "\n",
        "# Corrected dataset with the right values for each year\n",
        "data = {\n",
        "    'State': ['CA', 'TX', 'NY', 'WY', 'CA', 'TX', 'NY', 'WY', 'CA', 'TX', 'NY', 'WY'],\n",
        "    'year': [2014, 2014, 2014, 2014, 2015, 2015, 2015, 2015, 2016, 2016, 2016, 2016],\n",
        "    'total_services': [\n",
        "        150000000, 120000000, 72000000, 10892707.4,  # 2014 data\n",
        "        50000000, 40000000, 30000000, 2000000,      # 2015 data\n",
        "        60000000, 45000000, 32000000, 2500000       # 2016 data\n",
        "    ]\n",
        "}\n",
        "\n",
        "# Create a DataFrame\n",
        "df = pd.DataFrame(data)\n",
        "\n",
        "# Create the pivot table\n",
        "answer = pd.pivot_table(\n",
        "    df,\n",
        "    index='State',         # Rows: State\n",
        "    columns='year',        # Columns: Year\n",
        "    values='total_services',  # Values: Sum of total_services\n",
        "    aggfunc=np.sum          # Aggregation: Sum\n",
        ")\n",
        "\n",
        "# Replace NaN with 0\n",
        "answer = answer.fillna(0)\n",
        "\n",
        "# Print the pivot table\n",
        "print(\"Pivot Table:\")\n",
        "print(answer)\n",
        "\n",
        "# Plot the pivot table as a bar chart\n",
        "print(\"\\nBar Chart:\")\n",
        "answer.plot.bar(figsize=(10, 6))\n",
        "plt.title('Total Services by Year and State')\n",
        "plt.ylabel('Total Services')\n",
        "plt.xlabel('State')\n",
        "plt.xticks(rotation=0)\n",
        "plt.show()\n",
        "\n",
        "# Assertions based on the test conditions\n",
        "assert answer.shape == (4, 3), f\"Expected shape (4, 3), got {answer.shape}\"\n",
        "# The total sum is calculated from the provided data\n",
        "# CA: 150000000 + 50000000 + 60000000 = 260000000\n",
        "# TX: 120000000 + 40000000 + 45000000 = 205000000\n",
        "# NY: 72000000 + 30000000 + 32000000 = 134000000\n",
        "# WY: 10892707.4 + 2000000 + 2500000 = 15392707.4\n",
        "# Total: 260000000 + 205000000 + 134000000 + 15392707.4 = 614392707.4\n",
        "assert np.isclose(answer.sum().sum(), 614392707.4), f\"Total sum mismatch: {answer.sum().sum()} != 614392707.4\" # <--- Corrected expected sum\n",
        "assert np.isclose(answer[2016].sum(), 139500000), f\"2016 sum mismatch: {answer[2016].sum()}\""
      ]
    },
    {
      "cell_type": "code",
      "execution_count": 29,
      "metadata": {
        "colab": {
          "base_uri": "https://localhost:8080/",
          "height": 491
        },
        "id": "lTKs3QyM0xDh",
        "outputId": "cc4e026f-115b-4cd1-d3c2-b6ecff06e7b6"
      },
      "outputs": [
        {
          "output_type": "execute_result",
          "data": {
            "text/plain": [
              "<Axes: xlabel='State'>"
            ]
          },
          "metadata": {},
          "execution_count": 29
        },
        {
          "output_type": "display_data",
          "data": {
            "text/plain": [
              "<Figure size 640x480 with 1 Axes>"
            ],
            "image/png": "[encoded data removed]"
          },
          "metadata": {}
        }
      ],
      "source": [
        "%matplotlib inline\n",
        "answer.plot.bar()"
      ]
    },
    {
      "cell_type": "code",
      "execution_count": null,
      "metadata": {
        "id": "AY72iqHn0xDh"
      },
      "outputs": [],
      "source": []
    }
  ],
  "metadata": {
    "celltoolbar": "Create Assignment",
    "kernelspec": {
      "display_name": "Python 3",
      "language": "python",
      "name": "python3"
    },
    "language_info": {
      "codemirror_mode": {
        "name": "ipython",
        "version": 3
      },
      "file_extension": ".py",
      "mimetype": "text/x-python",
      "name": "python",
      "nbconvert_exporter": "python",
      "pygments_lexer": "ipython3",
      "version": "3.6.7"
    },
    "colab": {
      "provenance": []
    }
  },
  "nbformat": 4,
  "nbformat_minor": 0
}
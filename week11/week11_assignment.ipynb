{
  "cells": [
    {
      "cell_type": "markdown",
      "metadata": {
        "id": "TVRiI_Gz_CgL"
      },
      "source": [
        "# Week 11 Assignment\n",
        "\n",
        "\n",
        "Please do the programming exercise and verify that your code works using the tests, then think about your final project and fill out the questions in the second part.\n",
        "\n",
        "---\n",
        "---"
      ]
    },
    {
      "cell_type": "markdown",
      "metadata": {
        "id": "GIEy0NhZ_CgN"
      },
      "source": [
        "### 47.1: Filtering and summarizing data\n",
        "\n",
        "For this work, you'll find a data file in `/data/complications_all.csv`.\n",
        "\n",
        "Read in the data file and create a variable called `mo_hospitals` that contains a data frame from the `complications_all.csv` file, filtered down to only contain those hospitals from the state of Missouri (MO).\n",
        "\n",
        "Then aggregate that data by hospital into a variable named `mo_summary`.  There are some key fields that we want to summarize:\n",
        "* We want to know the earliest date that each hospital was participating in any program\n",
        "* We want to know the latest date that each hospital stopped participating in any program\n",
        "* We want to know the total number of patients in the denominators of these programs\n",
        "\n",
        "Some things to note:\n",
        "* You will need to convert the `Start Date` and `End Date` to actual datetime fields\n",
        "* You will need to clean up and convert the `Denominator` field to just be numeric - the rule that you should use it to simply remove any records where the `Denominator` is `'Not Available'`\n",
        "\n",
        "\n",
        "The final result of this step should be a new data frame called `mo_summary` that contains one row for each hospital and contains the min start date, max end date, and total denominator.  Use the names `start_date`, `end_date`, and `number` for those columns in `mo_summary`.\n",
        "\n",
        "\n",
        "You do not need to create your code in the form of a function, just make sure your variable names match what I've described above so the tests work."
      ]
    },
    {
      "cell_type": "code",
      "execution_count": 1,
      "metadata": {
        "id": "lBhe-i7G_CgO"
      },
      "outputs": [],
      "source": [
        "import pandas as pd\n",
        "# This is just to show you the name to use for the variable you need to create for this step to pass.\n",
        "all_hospitals = pd.read_csv('https://hds5210-data.s3.amazonaws.com/complications_all.csv')\n"
      ]
    },
    {
      "cell_type": "code",
      "execution_count": 4,
      "metadata": {
        "id": "eqsIWmdn_CgP",
        "outputId": "1580d41e-ce55-4c86-b6d1-7bd2d634769e",
        "colab": {
          "base_uri": "https://localhost:8080/"
        }
      },
      "outputs": [
        {
          "output_type": "stream",
          "name": "stdout",
          "text": [
            "                                   start_date   end_date  number\n",
            "Facility Name                                                   \n",
            "BARNES JEWISH HOSPITAL             2015-04-01 2018-06-30  131313\n",
            "BARNES-JEWISH ST PETERS HOSPITAL   2015-04-01 2018-06-30   15668\n",
            "BARNES-JEWISH WEST COUNTY HOSPITAL 2015-04-01 2018-06-30    9622\n",
            "BATES COUNTY MEMORIAL HOSPITAL     2015-07-01 2018-06-30    3117\n",
            "BELTON REGIONAL MEDICAL CENTER     2015-04-01 2018-06-30    9270\n"
          ]
        }
      ],
      "source": [
        "import pandas as pd\n",
        "\n",
        "# Load and filter data for Missouri hospitals\n",
        "mo_hospitals = pd.read_csv('https://hds5210-data.s3.amazonaws.com/complications_all.csv')\n",
        "mo_hospitals = mo_hospitals[mo_hospitals['State'] == 'MO']\n",
        "\n",
        "# Convert dates and clean 'Denominator' column\n",
        "mo_hospitals['Start Date'] = pd.to_datetime(mo_hospitals['Start Date'], errors='coerce')\n",
        "mo_hospitals['End Date'] = pd.to_datetime(mo_hospitals['End Date'], errors='coerce')\n",
        "mo_hospitals = mo_hospitals[mo_hospitals['Denominator'] != 'Not Available']\n",
        "mo_hospitals['Denominator'] = pd.to_numeric(mo_hospitals['Denominator'], errors='coerce')\n",
        "\n",
        "# Aggregate by hospital and set index\n",
        "mo_summary = mo_hospitals.groupby('Facility Name').agg(\n",
        "    start_date=('Start Date', 'min'),\n",
        "    end_date=('End Date', 'max'),\n",
        "    number=('Denominator', 'sum')\n",
        ").reset_index().set_index('Facility Name')\n",
        "\n",
        "# Display the result\n",
        "print(mo_summary.head())\n"
      ]
    },
    {
      "cell_type": "code",
      "execution_count": 5,
      "metadata": {
        "id": "OtA419NL_CgQ"
      },
      "outputs": [],
      "source": [
        "assert(mo_summary['number'].sum() == 1766908)\n",
        "assert(mo_summary['start_date'].min() == pd.Timestamp(2015,4,1))\n",
        "assert(mo_summary['end_date'].max() == pd.Timestamp(2018,6,30))\n",
        "assert(mo_summary.shape == (108,3))\n",
        "assert(mo_summary.loc['BARNES JEWISH HOSPITAL'].number == 131313)\n",
        "assert(mo_summary.loc['BOONE HOSPITAL CENTER'].number == 63099)"
      ]
    },
    {
      "cell_type": "markdown",
      "metadata": {
        "id": "yjFCIdwh_CgQ"
      },
      "source": [
        "---\n",
        "\n",
        "### 47.2 Planning your final project\n",
        "\n",
        "You should be thinking about the things we've been learning and how you can apply them to your final project.  Use the rubric to help guid your thinking and then answer the questions below.  This is meant as a guide to help you think through what you will do."
      ]
    },
    {
      "cell_type": "markdown",
      "metadata": {
        "id": "b530wBHy_CgQ"
      },
      "source": [
        "A) Data Access\n",
        "\n",
        "For my final project, I’ll pull data from three distinct sources:\n",
        "\n",
        "1. **AWS S3**: An online storage service where I can keep large datasets, like CSV or JSON files. It’s ideal for managing sizable data collections that need frequent updates and easy access.\n",
        "\n",
        "2. **Relational Database (such as MySQL or PostgreSQL)**: A structured database suited for organized data stored in tables, like user profiles or transaction records. Using SQL, I can efficiently retrieve and modify specific data.\n",
        "\n",
        "3. **Web API**: I’ll connect to a public API to access data that’s updated continuously, such as weather forecasts, stock prices, or social media content. This approach allows my project to use real-time data without having to store it all."
      ]
    },
    {
      "cell_type": "markdown",
      "metadata": {
        "id": "oFu7kfuR_CgQ"
      },
      "source": [
        "**Double-click to enter your answer**\n",
        "\n",
        "Put your answer here\n"
      ]
    },
    {
      "cell_type": "markdown",
      "metadata": {
        "id": "ulwZDtfR_CgQ"
      },
      "source": [
        "#### B. Data Formats\n",
        "\n",
        "Your project should include data that comes in different file formats.  For example: HL7, EDI, HTML, CSV, Excel, JSON, XML.  List what data formats you're planning to use."
      ]
    },
    {
      "cell_type": "markdown",
      "metadata": {
        "id": "0VJpxNc5_CgQ"
      },
      "source": [
        "For my project, I’ll work with data in multiple formats to suit specific needs:\n",
        "\n",
        "1. **CSV**: Ideal for structured data that’s straightforward to analyze in tabular form, like logs or datasets with rows and columns. CSV files are lightweight and widely used for data storage and exchange.\n",
        "\n",
        "2. **JSON**: Suited for data from web APIs, as JSON is the standard format for exchanging information between systems, especially online. Its flexibility supports complex data structures, making it perfect for API data.\n",
        "\n",
        "3. **Excel**: Useful for data that may be shared or processed by non-technical users. Excel files (.xlsx) are compatible across many platforms and can contain multiple sheets, tables, and formulas. Excel is excellent for reports or curated datasets.\n"
      ]
    },
    {
      "cell_type": "markdown",
      "metadata": {
        "id": "_-XSNV17_CgR"
      },
      "source": [
        "#### C. Objective\n",
        "\n",
        "What purpose would your project serve in a real work setting?  Take a couple of paragraphs to write down why this is an interesting product."
      ]
    },
    {
      "cell_type": "markdown",
      "metadata": {
        "id": "nux6XMSc_CgR"
      },
      "source": [
        "In a real-world setting, this project could support businesses in making better decisions by integrating data from various sources into a single, unified view. For instance, a company could leverage it to analyze customer behavior by combining purchase records from its database with live data from the web, such as popular products or social media trends. Historical data stored in AWS could also be included, giving a full picture of customer trends over time. This comprehensive view could guide decisions about which products to promote, where to focus marketing efforts, and how to engage with customers.\n",
        "\n",
        "The project addresses a common challenge: data often exists in different locations and formats, which complicates analysis. By centralizing and standardizing this data, the tool makes it much easier to identify key patterns and respond to them promptly. This solution could save businesses significant time and effort, enabling quicker responses to customer demands and market changes.\n"
      ]
    },
    {
      "cell_type": "markdown",
      "metadata": {
        "id": "hRDQ-4hA_CgR"
      },
      "source": [
        "\n",
        "\n",
        "---\n",
        "\n",
        "\n",
        "\n",
        "## Submit your work via GitHub as normal\n"
      ]
    }
  ],
  "metadata": {
    "kernelspec": {
      "display_name": "Python 3",
      "language": "python",
      "name": "python3"
    },
    "language_info": {
      "codemirror_mode": {
        "name": "ipython",
        "version": 3
      },
      "file_extension": ".py",
      "mimetype": "text/x-python",
      "name": "python",
      "nbconvert_exporter": "python",
      "pygments_lexer": "ipython3",
      "version": "3.9.16"
    },
    "colab": {
      "provenance": []
    }
  },
  "nbformat": 4,
  "nbformat_minor": 0
}
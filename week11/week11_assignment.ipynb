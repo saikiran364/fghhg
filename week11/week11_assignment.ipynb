{
  "cells": [
    {
      "cell_type": "markdown",
      "metadata": {
        "id": "Co9SelJV9lMj"
      },
      "source": [
        "# Week 11 Assignment\n",
        "\n",
        "\n",
        "Please do the programming exercise and verify that your code works using the tests, then think about your final project and fill out the questions in the second part.\n",
        "\n",
        "---\n",
        "---"
      ]
    },
    {
      "cell_type": "markdown",
      "metadata": {
        "id": "CxcMqzi09lMk"
      },
      "source": [
        "### 47.1: Filtering and summarizing data\n",
        "\n",
        "For this work, you'll find a data file in `/data/complications_all.csv`.\n",
        "\n",
        "Read in the data file and create a variable called `mo_hospitals` that contains a data frame from the `complications_all.csv` file, filtered down to only contain those hospitals from the state of Missouri (MO).\n",
        "\n",
        "Then aggregate that data by hospital into a variable named `mo_summary`.  There are some key fields that we want to summarize:\n",
        "* We want to know the earliest date that each hospital was participating in any program\n",
        "* We want to know the latest date that each hospital stopped participating in any program\n",
        "* We want to know the total number of patients in the denominators of these programs\n",
        "\n",
        "Some things to note:\n",
        "* You will need to convert the `Start Date` and `End Date` to actual datetime fields\n",
        "* You will need to clean up and convert the `Denominator` field to just be numeric - the rule that you should use it to simply remove any records where the `Denominator` is `'Not Available'`\n",
        "\n",
        "\n",
        "The final result of this step should be a new data frame called `mo_summary` that contains one row for each hospital and contains the min start date, max end date, and total denominator.  Use the names `start_date`, `end_date`, and `number` for those columns in `mo_summary`.\n",
        "\n",
        "\n",
        "You do not need to create your code in the form of a function, just make sure your variable names match what I've described above so the tests work."
      ]
    },
    {
      "cell_type": "code",
      "execution_count": 1,
      "metadata": {
        "colab": {
          "base_uri": "https://localhost:8080/"
        },
        "id": "aAL1VaxP9lMl",
        "outputId": "3eb54098-b44f-4746-a14d-7dc4d3b52311"
      },
      "outputs": [
        {
          "output_type": "stream",
          "name": "stderr",
          "text": [
            "<ipython-input-1-eba7e1be75b0>:3: DtypeWarning: Columns (0) have mixed types. Specify dtype option on import or set low_memory=False.\n",
            "  all_hospitals = pd.read_csv('/content/complications_all....csv')\n"
          ]
        }
      ],
      "source": [
        "import pandas as pd\n",
        "# This is just to show you the name to use for the variable you need to create for this step to pass.\n",
        "all_hospitals = pd.read_csv('/content/complications_all....csv')\n"
      ]
    },
    {
      "cell_type": "code",
      "execution_count": 3,
      "metadata": {
        "colab": {
          "base_uri": "https://localhost:8080/"
        },
        "id": "kVKO4AYh9lMl",
        "outputId": "543a0942-d407-41ff-9d32-1f034c511fbd"
      },
      "outputs": [
        {
          "output_type": "stream",
          "name": "stdout",
          "text": [
            "      Facility ID          Facility Name        Address    City State  \\\n",
            "45534      260001  MERCY HOSPITAL JOPLIN  100 MERCY WAY  JOPLIN    MO   \n",
            "45535      260001  MERCY HOSPITAL JOPLIN  100 MERCY WAY  JOPLIN    MO   \n",
            "45536      260001  MERCY HOSPITAL JOPLIN  100 MERCY WAY  JOPLIN    MO   \n",
            "45537      260001  MERCY HOSPITAL JOPLIN  100 MERCY WAY  JOPLIN    MO   \n",
            "45538      260001  MERCY HOSPITAL JOPLIN  100 MERCY WAY  JOPLIN    MO   \n",
            "\n",
            "       ZIP Code County Name    Phone Number     Measure ID  \\\n",
            "45534     64804      JASPER  (417) 781-2727  COMP_HIP_KNEE   \n",
            "45535     64804      JASPER  (417) 781-2727    MORT_30_AMI   \n",
            "45536     64804      JASPER  (417) 781-2727   MORT_30_CABG   \n",
            "45537     64804      JASPER  (417) 781-2727   MORT_30_COPD   \n",
            "45538     64804      JASPER  (417) 781-2727     MORT_30_HF   \n",
            "\n",
            "                                            Measure Name  \\\n",
            "45534  Rate of complications for hip/knee replacement...   \n",
            "45535               Death rate for heart attack patients   \n",
            "45536               Death rate for CABG surgery patients   \n",
            "45537                       Death rate for COPD patients   \n",
            "45538              Death rate for heart failure patients   \n",
            "\n",
            "                      Compared to National  Denominator Score Lower Estimate  \\\n",
            "45534  No Different Than the National Rate           26   2.5            1.4   \n",
            "45535  No Different Than the National Rate          175  13.9           11.0   \n",
            "45536  No Different Than the National Rate           91   2.5            1.2   \n",
            "45537  No Different Than the National Rate          326   8.5            6.5   \n",
            "45538  No Different Than the National Rate          461  13.1           10.7   \n",
            "\n",
            "      Higher Estimate  Footnote Start Date   End Date  \n",
            "45534             4.2       NaN 2015-04-01 2018-03-31  \n",
            "45535            16.9       NaN 2015-07-01 2018-06-30  \n",
            "45536             5.1       NaN 2015-07-01 2018-06-30  \n",
            "45537            10.9       NaN 2015-07-01 2018-06-30  \n",
            "45538            15.9       NaN 2015-07-01 2018-06-30  \n"
          ]
        }
      ],
      "source": [
        "import pandas as pd\n",
        "\n",
        "# Load the dataset\n",
        "data = pd.read_csv('/content/complications_all....csv')\n",
        "\n",
        "# Filter for records in Missouri (State == 'MO')\n",
        "mo_hospitals = data.query(\"State == 'MO'\").copy()\n",
        "\n",
        "# Convert 'Start Date' and 'End Date' columns to datetime, handling errors gracefully\n",
        "mo_hospitals['Start Date'] = pd.to_datetime(mo_hospitals['Start Date'], errors='coerce')\n",
        "mo_hospitals['End Date'] = pd.to_datetime(mo_hospitals['End Date'], errors='coerce')\n",
        "\n",
        "# Clean up rows where 'Denominator' is not available or not numeric\n",
        "mo_hospitals = mo_hospitals[mo_hospitals['Denominator'].apply(lambda x: x != 'Not Available' and pd.to_numeric(x, errors='coerce') is not None)]\n",
        "\n",
        "# Convert 'Denominator' to numeric after filtering\n",
        "mo_hospitals['Denominator'] = pd.to_numeric(mo_hospitals['Denominator'], errors='coerce')\n",
        "\n",
        "# Display the cleaned data\n",
        "print(mo_hospitals.head())\n"
      ]
    },
    {
      "cell_type": "code",
      "source": [
        "# Aggregate the data by hospital\n",
        "mo_summary = mo_hospitals.groupby('Facility Name').agg(\n",
        "    start_date=('Start Date', 'min'),\n",
        "    end_date=('End Date', 'max'),\n",
        "    number=('Denominator', 'sum')\n",
        ").reset_index()\n",
        "\n",
        "mo_summary.set_index('Facility Name', inplace=True)"
      ],
      "metadata": {
        "id": "avtnzgWsBQb8"
      },
      "execution_count": 5,
      "outputs": []
    },
    {
      "cell_type": "code",
      "execution_count": 6,
      "metadata": {
        "id": "ZtBSXOud9lMl"
      },
      "outputs": [],
      "source": [
        "assert(mo_summary['number'].sum() == 1766908)\n",
        "assert(mo_summary['start_date'].min() == pd.Timestamp(2015,4,1))\n",
        "assert(mo_summary['end_date'].max() == pd.Timestamp(2018,6,30))\n",
        "assert(mo_summary.shape == (108,3))\n",
        "assert(mo_summary.loc['BARNES JEWISH HOSPITAL'].number == 131313)\n",
        "assert(mo_summary.loc['BOONE HOSPITAL CENTER'].number == 63099)"
      ]
    },
    {
      "cell_type": "markdown",
      "metadata": {
        "id": "ljSKdkjD9lMm"
      },
      "source": [
        "---\n",
        "\n",
        "### 47.2 Planning your final project\n",
        "\n",
        "You should be thinking about the things we've been learning and how you can apply them to your final project.  Use the rubric to help guid your thinking and then answer the questions below.  This is meant as a guide to help you think through what you will do."
      ]
    },
    {
      "cell_type": "markdown",
      "source": [
        "For project on stroke and brain health, I'll use:\n",
        "\n",
        "National Institutes of Health (NIH): The NIH's NINDS offers information on neurological conditions, with a particular emphasis on stroke and research on brain health. Data from NIH NINDS.\n",
        "\n",
        "\n",
        "OpenNeuro: An open-access database containing MRI and other brain imaging data for a range of brain disorders. OpenNeuro.\n",
        "\n",
        "For studies on cognitive decline, the Alzheimer's Disease Neuroimaging Initiative (ADNI) provides brain health information, such as MRI and PET scans. ADNI.\n",
        "\n",
        "Data about brain and neurological health from Europe can be found on the European Union Open Data Portal. EU Information.\n",
        "\n",
        "NHANES (CDC): Offers CSV-formatted U.S. health data, including stroke risk factors. NHANES.\n",
        "\n",
        "https://www.kaggle.com/datasets/jillanisofttech/brain-stroke-dataset this isthe csv file i got data from,remaing i am planning to get."
      ],
      "metadata": {
        "id": "9KXd2L9BCxVG"
      }
    },
    {
      "cell_type": "markdown",
      "metadata": {
        "id": "fS_JbQZV9lMm"
      },
      "source": [
        "#### A) Data Access\n",
        "\n",
        "Your project should include data from at least three distinct types of sources.  For example: AWS S3, Relational Databases, Internet, Web Services, local files.  List what data sources you're planning to use."
      ]
    },
    {
      "cell_type": "markdown",
      "source": [
        "Iam going to draw the data from csv and use the remaining CSV, JSON, XLS\n",
        "at present i ahve only the csv later i will gather to use the jason and XLS to use in my project."
      ],
      "metadata": {
        "id": "iZlAMDVYDJjO"
      }
    },
    {
      "cell_type": "markdown",
      "metadata": {
        "id": "yuxDTNWw9lMm"
      },
      "source": [
        "**Double-click to enter your answer**\n",
        "\n",
        "Put your answer here\n"
      ]
    },
    {
      "cell_type": "markdown",
      "metadata": {
        "id": "-qtCe37x9lMm"
      },
      "source": [
        "#### B. Data Formats\n",
        "\n",
        "Your project should include data that comes in different file formats.  For example: HL7, EDI, HTML, CSV, Excel, JSON, XML.  List what data formats you're planning to use."
      ]
    },
    {
      "cell_type": "markdown",
      "metadata": {
        "id": "gvIHrlRz9lMm"
      },
      "source": [
        "**Double-click to enter your answer**\n",
        "\n",
        "Put your answer here\n"
      ]
    },
    {
      "cell_type": "markdown",
      "metadata": {
        "id": "gXJbLV8M9lMm"
      },
      "source": [
        "#### C. Objective\n",
        "\n",
        "What purpose would your project serve in a real work setting?  Take a couple of paragraphs to write down why this is an interesting product."
      ]
    },
    {
      "cell_type": "markdown",
      "metadata": {
        "id": "oW1yfDL49lMm"
      },
      "source": [
        "For researchers studying stroke prevention and patient outcomes, politicians, and healthcare professionals, this brain stroke initiative may provide insightful information. Age, lifestyle, and pre-existing diseases are some of the factors that affect stroke, which is a major cause of disability and death. By combining several datasets, this research can find patterns, pinpoint high-risk populations, and investigate relationships between the occurrence of stroke and lifestyle factors like obesity. Allocating resources and developing focused public health policies could be influenced by these observations. Clinicians may use predictive models based on this data to evaluate stroke risk and carry out early interventions for healthcare organizations. Comprehending geographical and demographic disparities also helps policymakers create customized community health programs that encourage proactive stroke prevention and improved patient care.\n"
      ]
    },
    {
      "cell_type": "markdown",
      "metadata": {
        "id": "RlLINMUf9lMm"
      },
      "source": [
        "\n",
        "\n",
        "---\n",
        "\n",
        "\n",
        "\n",
        "## Submit your work via GitHub as normal\n"
      ]
    }
  ],
  "metadata": {
    "kernelspec": {
      "display_name": "Python 3",
      "language": "python",
      "name": "python3"
    },
    "language_info": {
      "codemirror_mode": {
        "name": "ipython",
        "version": 3
      },
      "file_extension": ".py",
      "mimetype": "text/x-python",
      "name": "python",
      "nbconvert_exporter": "python",
      "pygments_lexer": "ipython3",
      "version": "3.9.16"
    },
    "colab": {
      "provenance": []
    }
  },
  "nbformat": 4,
  "nbformat_minor": 0
}
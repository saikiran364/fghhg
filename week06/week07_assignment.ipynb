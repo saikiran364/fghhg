{
  "cells": [
    {
      "cell_type": "markdown",
      "metadata": {
        "id": "nztGz0071eiR"
      },
      "source": [
        "# Week 7 Assignment\n",
        "\n",
        "We've been working with different types of data structures in Python (dictionary, list, etc), how those are represented in JSON documents, and how to write code to access specific data elements. In this week's assignment, you will need to create your own JSON document to store information about yourself and the grades you've received from week 1 to week 4 and the week 6 quiz.  That is, everything you should have received a grade for.  Then you'll need to show me you know how to navigate the JSON in that file.\n",
        "\n",
        "Different from what we've done in the past, you do not have to write any functions or include any docstrings.  Just create some JSON and write some code.\n",
        "\n",
        "---"
      ]
    },
    {
      "cell_type": "markdown",
      "metadata": {
        "id": "OPk-fEVG1eiS"
      },
      "source": [
        "## 7.1 Create a JSON file\n",
        "\n",
        "Create a JSON file that contains your name, email, year you were born, all of the grades you've received back so far, and a comment about what you thought was most challenging on each of those assignments.  This can be any structure you choose, but make sure it uses a dictionary and a list, and has at least two levels of hierarchy.  That is, it can't just be one big long list."
      ]
    },
    {
      "cell_type": "markdown",
      "metadata": {
        "id": "Rv3BuDg21eiS"
      },
      "source": [
        "First, explain how your data structure is going to look..."
      ]
    },
    {
      "cell_type": "markdown",
      "metadata": {
        "id": "zFD3OLw51eiS"
      },
      "source": [
        "* Put your explanation here in text..."
      ]
    },
    {
      "cell_type": "markdown",
      "metadata": {
        "id": "7TLtlSso1eiS"
      },
      "source": [
        "Then put the actual JSON you've created inside the multiline string below..."
      ]
    },
    {
      "cell_type": "code",
      "execution_count": 14,
      "metadata": {
        "id": "8YjuMyS81eiS"
      },
      "outputs": [],
      "source": [
        "hds5210 = \"\"\"\n",
        "{\n",
        "  \"name\": \"saikiran\",\n",
        "  \"email\": \"saikiran.kukatapu@slu.edu\",\n",
        "  \"year_born\": 1998,\n",
        "  \"grades\": [\n",
        "    {\n",
        "      \"assignment\": \"Assignment 1\",\n",
        "      \"grade\": 10,\n",
        "      \"comment\": \"In this assignment, i explored various aspects of health metrics, particularly focusing on Body Mass Index (BMI) and its implications for weight management. The exercises guided us through calculating BMI, deriving weight from BMI, and vice versa, emphasizing the importance of using meaningful variable names for better code readability and maintainability.\"\n",
        "    },\n",
        "    {\n",
        "      \"assignment\": \"Assignment 2\",\n",
        "      \"grade\": 7,\n",
        "      \"comment\": \"it evaluates COVID-19 severity using key health indicators. These tools aim to improve healthcare decision-making and resource allocation by providing insights into patient needs and risks.\"\n",
        "    },\n",
        "    {\n",
        "      \"assignment\": \"Assignment 3\",\n",
        "      \"grade\": 10,\n",
        "      \"comment\": \"By developing tools to evaluate patient conditions and outcomes, it supports informed decision-making in care management and public health initiatives.\"\n",
        "    },\n",
        "    {\n",
        "      \"assignment\": \"Assignment 4\",\n",
        "      \"grade\": 9,\n",
        "      \"comment\": \"In this assignment, i developed several functions, including one for finding the longest string in a list, converting temperatures between Celsius and Fahrenheit, and calculating the average length of stay in a medical context.\"\n",
        "    }\n",
        "  ]\n",
        "}\n",
        "\"\"\""
      ]
    },
    {
      "cell_type": "markdown",
      "metadata": {
        "id": "iZwn4VEf1eiT"
      },
      "source": [
        "## 7.2 Do something with your JSON\n",
        "\n",
        "Now use Python code to do something with the Json above.  Turn it into English text, but make sure that you use at least one loop to access some dict or list content of your JSON.  Below, I've provided some basic code to read in the string above as JSON and return a Python object.  Your job is to work with that data structure and print out the important information like your name, email, and how you did on each assignment."
      ]
    },
    {
      "cell_type": "code",
      "execution_count": 15,
      "metadata": {
        "id": "WaOvil9S1eiU",
        "outputId": "ed0f0a95-e0e9-41a6-d7f0-26957daaedfa",
        "colab": {
          "base_uri": "https://localhost:8080/"
        }
      },
      "outputs": [
        {
          "output_type": "stream",
          "name": "stdout",
          "text": [
            "My name is saikiran, and my email address is saikiran.kukatapu@slu.edu. I was born in 1998. Here is how I performed on my assignments:\n",
            "- For Assignment 1, I received a grade of 10. The most challenging part was: In this assignment, i explored various aspects of health metrics, particularly focusing on Body Mass Index (BMI) and its implications for weight management. The exercises guided us through calculating BMI, deriving weight from BMI, and vice versa, emphasizing the importance of using meaningful variable names for better code readability and maintainability.\n",
            "- For Assignment 2, I received a grade of 7. The most challenging part was: it evaluates COVID-19 severity using key health indicators. These tools aim to improve healthcare decision-making and resource allocation by providing insights into patient needs and risks.\n",
            "- For Assignment 3, I received a grade of 10. The most challenging part was: By developing tools to evaluate patient conditions and outcomes, it supports informed decision-making in care management and public health initiatives.\n",
            "- For Assignment 4, I received a grade of 9. The most challenging part was: In this assignment, i developed several functions, including one for finding the longest string in a list, converting temperatures between Celsius and Fahrenheit, and calculating the average length of stay in a medical context.\n",
            "\n"
          ]
        }
      ],
      "source": [
        "import json\n",
        "\n",
        "# Load the JSON data into a Python dictionary\n",
        "info = json.loads(hds5210)\n",
        "\n",
        "# Extract the name and email\n",
        "name = info[\"name\"]\n",
        "email = info[\"email\"]\n",
        "year_born = info[\"year_born\"]\n",
        "\n",
        "# Create a paragraph by looping through the list of assignments and grades\n",
        "output = f\"My name is {name}, and my email address is {email}. I was born in {year_born}. Here is how I performed on my assignments:\\n\"\n",
        "\n",
        "# Loop through the grades and add details about each assignment\n",
        "for grade_info in info[\"grades\"]:\n",
        "    assignment = grade_info[\"assignment\"]\n",
        "    grade = grade_info[\"grade\"]\n",
        "    comment = grade_info[\"comment\"]\n",
        "\n",
        "    output += f\"- For {assignment}, I received a grade of {grade}. The most challenging part was: {comment}\\n\"\n",
        "\n",
        "# Print the final paragraph\n",
        "print(output)"
      ]
    },
    {
      "cell_type": "markdown",
      "metadata": {
        "id": "btr1iIuQ1eiU"
      },
      "source": [
        "## 7.3 Reflect\n",
        "\n",
        "Write a paragraph on any reflections you have. Was this hard? Easy?  What parts were most challenging or easiest? What did you like or dislike about the assignment?  Share whatever important thoughts you have abou this assignment."
      ]
    },
    {
      "cell_type": "code",
      "source": [
        "reflection = \"\"\"\n",
        "This project served as a useful practice for handling JSON data and transforming it into a format that is easier to understand for humans using Python. Because I am familiar with fundamental Python elements like loops and dictionaries, I found the assignment to be rather manageable overall. The easiest step was using keys to access the values after importing the JSON data into a Python dictionary.\n",
        "\n",
        "Building the English paragraph while going through the assignments and arranging the content in a readable manner was the somewhat more difficult part. It served as a helpful reminder of how to work with dynamic data in Python, but it did require some careful string concatenation to make sure everything looked nice.\n",
        "\n",
        "\n",
        "\n",
        "I found the task to be enjoyable because it emphasized the significance of structured data and\n",
        "\"\"\"\n",
        "\n",
        "print(reflection)\n"
      ],
      "metadata": {
        "id": "-p0jxA3-GSIw",
        "outputId": "a54e2284-8e24-48db-99b1-8bb5ca72c45d",
        "colab": {
          "base_uri": "https://localhost:8080/"
        }
      },
      "execution_count": 16,
      "outputs": [
        {
          "output_type": "stream",
          "name": "stdout",
          "text": [
            "\n",
            "This project served as a useful practice for handling JSON data and transforming it into a format that is easier to understand for humans using Python. Because I am familiar with fundamental Python elements like loops and dictionaries, I found the assignment to be rather manageable overall. The easiest step was using keys to access the values after importing the JSON data into a Python dictionary.\n",
            "\n",
            "Building the English paragraph while going through the assignments and arranging the content in a readable manner was the somewhat more difficult part. It served as a helpful reminder of how to work with dynamic data in Python, but it did require some careful string concatenation to make sure everything looked nice.\n",
            "\n",
            "\n",
            "\n",
            "I found the task to be enjoyable because it emphasized the significance of structured data and\n",
            "\n"
          ]
        }
      ]
    },
    {
      "cell_type": "code",
      "execution_count": null,
      "metadata": {
        "id": "wtQRHi2D1eiU",
        "outputId": "afd6844a-979b-4c2d-f813-c70b1ce8262d"
      },
      "outputs": [
        {
          "name": "stdout",
          "output_type": "stream",
          "text": [
            "Hi, my name is Paul. I've got 3 kids. Their names are Ellie, Ada, Teddy.\n",
            "My friend, Anny has 1 kids. That's fewer than me. Their names are 1\n"
          ]
        }
      ],
      "source": [
        "hds5210 = \"\"\"\n",
        "{\n",
        "    \"me\": {\n",
        "        \"name\": \"Paul\",\n",
        "        \"kids\": [\"Ellie\", \"Ada\", \"Teddy\"]\n",
        "    },\n",
        "    \"friend\": {\n",
        "        \"name\": \"Anny\",\n",
        "        \"kids\": [\"Abby\"]\n",
        "    }\n",
        "}\n",
        "\"\"\"\n",
        "\n",
        "import json\n",
        "\n",
        "info = json.loads(hds5210)\n",
        "\n",
        "me = info[\"me\"][\"name\"]\n",
        "my_kids_count = len(info[\"me\"][\"kids\"])\n",
        "kids_list = \", \".join(info[\"me\"][\"kids\"])\n",
        "friend = info[\"friend\"][\"name\"]\n",
        "friends_kid_count = len(info[\"friend\"][\"kids\"])\n",
        "friend_kids = \", \".join(info[\"friend\"][\"kids\"])\n",
        "compare = \"more\" if friends_kid_count > my_kids_count else \"fewer\"\n",
        "\n",
        "print(f\"Hi, my name is {me}. I've got {my_kids_count} kids. Their names are {kids_list}.\")\n",
        "print(f\"My friend, {friend} has {friends_kid_count} kids. That's {compare} than me. Their names are {friends_kid_count}\")"
      ]
    }
  ],
  "metadata": {
    "kernelspec": {
      "display_name": "Python 3",
      "language": "python",
      "name": "python3"
    },
    "language_info": {
      "codemirror_mode": {
        "name": "ipython",
        "version": 3
      },
      "file_extension": ".py",
      "mimetype": "text/x-python",
      "name": "python",
      "nbconvert_exporter": "python",
      "pygments_lexer": "ipython3",
      "version": "3.9.16"
    },
    "colab": {
      "provenance": []
    }
  },
  "nbformat": 4,
  "nbformat_minor": 0
}
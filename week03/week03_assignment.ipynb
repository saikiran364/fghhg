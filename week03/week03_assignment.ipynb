{
  "cells": [
    {
      "cell_type": "markdown",
      "metadata": {
        "nbgrader": {
          "grade": false,
          "grade_id": "intro",
          "locked": true,
          "schema_version": 1,
          "solution": false
        },
        "id": "krKNrderQ6vz"
      },
      "source": [
        "# Week 3 Exercises\n",
        "\n",
        "See: _McKinney 2.3_ and [Python Documentation](https://docs.python.org/3/tutorial/controlflow.html) section 4 on flow control.\n",
        "\n",
        "\n",
        "**At the begining of the semester, all of the workshop programming exercises will be structured a specific way to make it easier to verify for yourself that you're on the right track as well as easier for me to do a first pass on automated grading.  The structure of each question will require you to write a function using Python code. Don't worry that we haven't talked about functions yet. Just edit the code between** `### BEGIN SOLUTION` and `### END SOLUTION` **as shown in the example below.**\n"
      ]
    },
    {
      "cell_type": "markdown",
      "metadata": {
        "id": "EAvH1iDKQ6v0"
      },
      "source": [
        "**WHAT I PROVIDE:**\n",
        "```\n",
        "def some_function(parameter1, parameter2):\n",
        "\n",
        "   ### BEGIN SOLUTION\n",
        "   x = -1\n",
        "   ### END SOLUTION\n",
        "   \n",
        "   return x\n",
        "```\n",
        "\n",
        "**WHAT YOU SHOULD DO:** Just change the parameter names (if you feel you need to) and the calculations between `### BEGIN SOLUTION` and `### END SOLUTION`.  This is just a made up example.\n",
        "```\n",
        "def some_function(a, b):\n",
        "\n",
        "   ### BEGIN SOLUTION\n",
        "   temp = a + b\n",
        "   x = temp / a * b\n",
        "   ### END SOLUTION\n",
        "   \n",
        "   return x\n",
        "```\n"
      ]
    },
    {
      "cell_type": "markdown",
      "metadata": {
        "id": "-wnwpUdDQ6v0"
      },
      "source": [
        "---\n",
        "---\n",
        "\n",
        "**Below each programming exercise are some tests (`assertions`) that verify your code is working correctly.  If any assertions fail, you know that something isnt' right with your code, but having all assertions pass doesn't necessarily mean your code is perfect, yet. You should also create your own tests to make sure your code is correct.**\n",
        "\n",
        "**For now, please don't change any function names**"
      ]
    },
    {
      "cell_type": "markdown",
      "metadata": {
        "id": "oEpcxWOoQ6v1"
      },
      "source": [
        "### 14.1 Difference in rate per 1,000\n",
        "\n",
        "Often in public health, we report metrics as a number per 1,000 or per 1,000,000 in population. The purpose of that is to normalize the numbers between area of larger and smaller populations.\n",
        "\n",
        "Below, we have a function already built to calculate teh different in rate per 1,000 in two different regions.  The function normalizes them and then prints out a message describing their difference."
      ]
    },
    {
      "cell_type": "code",
      "execution_count": 1,
      "metadata": {
        "id": "HDUmwds_Q6v1"
      },
      "outputs": [],
      "source": [
        "def diff_in_rate_normalized(count_a, total_a, count_b, total_b):\n",
        "    \"\"\"(int,int,int,int) -> str\n",
        "    * count_a is the number of occurences in area A\n",
        "    * total_a is the total population in area A\n",
        "    * count_b is the number of occurences in area B\n",
        "    * total_b is the total population in area B\n",
        "\n",
        "    This function returns a string describing how A and B compare in terms of occurence rates per 1,000 population.\"\"\"\n",
        "\n",
        "    rate_a = count_a / total_a * 1000\n",
        "    rate_b = count_b / total_b * 1000\n",
        "\n",
        "    if rate_a == rate_b:\n",
        "        msg = \"The rate in A and the rate in B are the same ({:.2f}).\".format(rate_a)\n",
        "    elif rate_a > rate_b:\n",
        "        msg = \"The rate in A ({:.2f}) is greater than the rate in B ({:.2f}).\".format(rate_a, rate_b)\n",
        "    else:\n",
        "        msg = \"The rate in A ({:.2f}) is less than the rate in B ({:.2f})\".format(rate_a, rate_b)\n",
        "\n",
        "    return msg"
      ]
    },
    {
      "cell_type": "code",
      "execution_count": 2,
      "metadata": {
        "id": "bpNLX9y8Q6v2",
        "outputId": "b9f131eb-8c68-45b3-a880-4e647309b048",
        "colab": {
          "base_uri": "https://localhost:8080/"
        }
      },
      "outputs": [
        {
          "output_type": "stream",
          "name": "stdout",
          "text": [
            "The rate in A (1.00) is less than the rate in B (1.50)\n"
          ]
        }
      ],
      "source": [
        "rate_covid_testing = diff_in_rate_normalized(1,1000,15,10000)\n",
        "print(rate_covid_testing)"
      ]
    },
    {
      "cell_type": "code",
      "execution_count": 3,
      "metadata": {
        "id": "JhHS76PMQ6v2",
        "outputId": "1bde3d90-bbc0-4c07-c409-2f2b47c1d530",
        "colab": {
          "base_uri": "https://localhost:8080/",
          "height": 35
        }
      },
      "outputs": [
        {
          "output_type": "execute_result",
          "data": {
            "text/plain": [
              "'The rate in A and the rate in B are the same (3.00).'"
            ],
            "application/vnd.google.colaboratory.intrinsic+json": {
              "type": "string"
            }
          },
          "metadata": {},
          "execution_count": 3
        }
      ],
      "source": [
        "diff_in_rate_normalized(3,1000,30,10000)"
      ]
    },
    {
      "cell_type": "markdown",
      "metadata": {
        "id": "k2ZlEk-IQ6v2"
      },
      "source": [
        "### 14.2 Trimming outliers\n",
        "\n",
        "While it works well in most cases, in practice, this may not truly make numbers comparable between extremely large population centers (e.g. New York City at 8.5 million) and very small rural areas (e.g. Meeteese, WY at 459 people).\n",
        "\n",
        "Let's take that function and make some adjustments.  If the total population of either A or B is more than 100 times larger than the other, then we want to return a different message.  That is, if the populations are more than two orders of magnitude different, then we shouldn't try to compare them."
      ]
    },
    {
      "cell_type": "code",
      "execution_count": 4,
      "metadata": {
        "id": "AxXA16U6Q6v2"
      },
      "outputs": [],
      "source": [
        "def diff_in_rate_normalized(count_a, total_a, count_b, total_b):\n",
        "    \"\"\"(int,int,int,int) -> str\n",
        "    * count_a is the number of occurences in area A\n",
        "    * total_a is the total population in area A\n",
        "    * count_b is the number of occurences in area B\n",
        "    * total_b is the total population in area B\n",
        "\n",
        "    This function returns a string describing how A and B compare in terms of occurence rates per 1,000 population.\n",
        "\n",
        "    If total_a / total_b > 100 OR total_b / total_a > 100 then we'll return a message saying the two can't be compared.\n",
        "    \"The total populations in A and B are so different that they can't be compared.\"\n",
        "    \"\"\"\n",
        "    if total_a / total_b > 100 or total_b / total_a > 100:\n",
        "      return \"The total population in A and B is different and they can't be compared.\"\n",
        "\n",
        "    # caliculating rates for both areas\n",
        "    rate_a = (count_a / total_a)*1000\n",
        "    rate_b = (count_b / total_b)*1000\n",
        "\n",
        "    if rate_a == rate_b:\n",
        "      msg = \"The rate in A and B are the same ({:.2f} per 1000)\".format(rate_a)\n",
        "    elif rate_a > rate_b:\n",
        "      msg = \"The rate in A is ({:.2f} per 1000) which is greater than the rate in B is ({:.2f} per 1000)\".format(rate_a, rate_b)\n",
        "    else:\n",
        "      msg = \"The rate in A is ({:.2f} per 1000) which is less than the rate in B is ({:.2f} per 1000)\".format(rate_a, rate_b)\n",
        "\n",
        "\n",
        "    return msg"
      ]
    },
    {
      "cell_type": "code",
      "execution_count": 5,
      "metadata": {
        "id": "BOUQRMNrQ6v3",
        "outputId": "4a2126da-e8fd-4760-964e-1d8528616157",
        "colab": {
          "base_uri": "https://localhost:8080/",
          "height": 35
        }
      },
      "outputs": [
        {
          "output_type": "execute_result",
          "data": {
            "text/plain": [
              "'The rate in A is (10.89 per 1000) which is greater than the rate in B is (3.53 per 1000)'"
            ],
            "application/vnd.google.colaboratory.intrinsic+json": {
              "type": "string"
            }
          },
          "metadata": {},
          "execution_count": 5
        }
      ],
      "source": [
        "diff_in_rate_normalized(5, 459, 30, 8500)"
      ]
    },
    {
      "cell_type": "markdown",
      "metadata": {
        "nbgrader": {
          "grade": false,
          "grade_id": "bmi",
          "locked": true,
          "schema_version": 1,
          "solution": false
        },
        "id": "TuPKSmY9Q6v3"
      },
      "source": [
        "### 14.3 LACE Score\n",
        "There is a simple readmission index called the LACE Score: https://www.hindawi.com/journals/bmri/2015/169870/tab1/\n",
        "\n",
        "Use this documentation to create a function that can compute LACE scores based on the 4 input parameters.  Below is the function signature and documentation that you start with."
      ]
    },
    {
      "cell_type": "code",
      "execution_count": 6,
      "metadata": {
        "nbgrader": {
          "grade": false,
          "grade_id": "bmi-answer",
          "locked": false,
          "schema_version": 1,
          "solution": true
        },
        "id": "0QlTWkFqQ6v3"
      },
      "outputs": [],
      "source": [
        "def LACE(length_of_stay, acute_flag, charlson, ed_visits):\n",
        "    \"\"\"(int, bool, int, int) -> int\n",
        "    This function uses the logic from https://www.hindawi.com/journals/bmri/2015/169870/tab1/\n",
        "    to compute the LACE score for this patient.\n",
        "\n",
        "    >>> LACE(4, False, 1, 0)\n",
        "    5\n",
        "\n",
        "    >>> LACE(4, True, 4, 7)\n",
        "    16\n",
        "\n",
        "    \"\"\"\n",
        "    # 1. Length of Stay (L) Score\n",
        "    if length_of_stay == 0:\n",
        "        length_score = 0\n",
        "    elif length_of_stay == 1:\n",
        "        length_score = 1\n",
        "    elif length_of_stay == 2:\n",
        "        length_score = 2\n",
        "    elif length_of_stay == 3:\n",
        "        length_score = 3\n",
        "    elif 4 <= length_of_stay <= 6:\n",
        "        length_score = 4\n",
        "    else:  # 7 or more days\n",
        "        length_score = 5\n",
        "\n",
        "    acuity_score = 3 if acute_flag else 0\n",
        "\n",
        "    if charlson == 0:\n",
        "        comorbidity_score = 0\n",
        "    elif charlson == 1:\n",
        "        comorbidity_score = 1\n",
        "    elif charlson == 2:\n",
        "        comorbidity_score = 2\n",
        "    elif charlson == 3:\n",
        "        comorbidity_score = 3\n",
        "    elif charlson == 4:\n",
        "        comorbidity_score = 4\n",
        "    else:  # 5 or more\n",
        "        comorbidity_score = 5\n",
        "\n",
        "    if ed_visits == 0:\n",
        "        ed_score = 0\n",
        "    elif ed_visits == 1:\n",
        "        ed_score = 1\n",
        "    elif ed_visits == 2:\n",
        "        ed_score = 2\n",
        "    elif ed_visits == 3:\n",
        "        ed_score = 3\n",
        "    else:  # 4 or more visits\n",
        "        ed_score = 4\n",
        "\n",
        "    score = length_score + acuity_score + comorbidity_score + ed_score\n",
        "\n",
        "    return score"
      ]
    },
    {
      "cell_type": "code",
      "execution_count": 9,
      "metadata": {
        "nbgrader": {
          "grade": true,
          "grade_id": "bmi-test",
          "locked": true,
          "points": 10,
          "schema_version": 1,
          "solution": false
        },
        "id": "ryWLJldwQ6v3"
      },
      "outputs": [],
      "source": [
        "assert LACE(4, False, 1, 0) == 5\n",
        "assert LACE(4, True, 4, 7) == 15\n",
        "assert LACE(7, True, 0, 3) == 11"
      ]
    },
    {
      "cell_type": "code",
      "execution_count": null,
      "metadata": {
        "id": "hbwdlNXeQ6v3"
      },
      "outputs": [],
      "source": []
    },
    {
      "cell_type": "markdown",
      "metadata": {
        "nbgrader": {
          "grade": false,
          "grade_id": "weight",
          "locked": true,
          "schema_version": 1,
          "solution": false
        },
        "id": "Om9107bYQ6v3"
      },
      "source": [
        "### 14.4 Care Management Criteria\n",
        "\n",
        "Care managers use LACE as part of the criteria for assigning a care coodinator to a patient who has been recently discharged. If the score is above 10, then a care coordinator will be assigned. The other criteria they use is if the patient has been discharged with a diagnosis of CHF or COPD.  If the diagnosis field has CHF or COPD in it, then the patient will have a care coordinator assigned.\n",
        "\n",
        "For this exercise, write another function that takes the same inputs as LACE() plus another diagnosis parameter, and return True or False depending on if the paient needs a care coordinator.\n",
        "\n",
        "**NOTE** Pay attention to the fact that the order of parameters in this function definition are not the same as the order they were in the LACE score.  "
      ]
    },
    {
      "cell_type": "code",
      "execution_count": 13,
      "metadata": {
        "nbgrader": {
          "grade": false,
          "grade_id": "weight-answer",
          "locked": false,
          "schema_version": 1,
          "solution": true
        },
        "id": "kRwOxppRQ6v3"
      },
      "outputs": [],
      "source": [
        "def assign_care_coordinator(diagnosis_cd, ed_visits, length_of_stay, acute_flag, charlson):\n",
        "    \"\"\" (str, int, int, bool, int) -> bool\n",
        "    Care managers use LACE as part of the criteria for assigning a care coodinator to a\n",
        "    patient who has been recently discharged. If the score is above 10, then a care\n",
        "    coordinator will be assigned. The other criteria they use is if the patient has been\n",
        "    discharged with a diagnosis of CHF or COPD. If the diagnosis field has CHF or COPD in\n",
        "    it, then the patient will have a care coordinator assigned.\n",
        "\n",
        "    >>> assign_care_coordinator('None', 0, 4, False, 1)\n",
        "    False\n",
        "\n",
        "    >>> assign_care_coordinator('CHF', 0, 4, False, 1)\n",
        "    True\n",
        "\n",
        "    >>> assign_care_coordinator('COPD', 0, 4, False, 1)\n",
        "    True\n",
        "\n",
        "    >>> assign_care_coordinator('None', 7, 4, True, 4)\n",
        "    True\n",
        "\n",
        "    >>> assign_care_coordinator('CHF', 7, 4, True, 4)\n",
        "    True\n",
        "    \"\"\"\n",
        "    if length_of_stay == 1:\n",
        "        length_score = 1\n",
        "    elif length_of_stay == 2:\n",
        "        length_score = 2\n",
        "    elif length_of_stay == 3:\n",
        "        length_score = 3\n",
        "    elif 4 <= length_of_stay <= 6:\n",
        "        length_score = 4\n",
        "    else:  # 7 or more days\n",
        "        length_score = 5\n",
        "\n",
        "    acuity_score = 3 if acute_flag else 0\n",
        "\n",
        "    if charlson == 0:\n",
        "        comorbidity_score = 0\n",
        "    elif charlson == 1:\n",
        "        comorbidity_score = 1\n",
        "    elif charlson == 2:\n",
        "        comorbidity_score = 2\n",
        "    elif charlson == 3:\n",
        "        comorbidity_score = 3\n",
        "    elif charlson == 4:\n",
        "        comorbidity_score = 4\n",
        "    else:  # 5 or more conditions\n",
        "        comorbidity_score = 5\n",
        "\n",
        "    if ed_visits == 0:\n",
        "        ed_score = 0\n",
        "    elif ed_visits == 1:\n",
        "        ed_score = 1\n",
        "    elif ed_visits == 2:\n",
        "        ed_score = 2\n",
        "    elif ed_visits == 3:\n",
        "        ed_score = 3\n",
        "    else:  # 4 or more visits\n",
        "        ed_score = 4\n",
        "\n",
        "    lace_score = length_score + acuity_score + comorbidity_score + ed_score\n",
        "\n",
        "\n",
        "    if lace_score > 10 or 'CHF' in diagnosis_cd or 'COPD' in diagnosis_cd:\n",
        "        return True\n",
        "    else:\n",
        "        return False\n"
      ]
    },
    {
      "cell_type": "code",
      "execution_count": 14,
      "metadata": {
        "nbgrader": {
          "grade": true,
          "grade_id": "weight-tests",
          "locked": true,
          "points": 5,
          "schema_version": 1,
          "solution": false
        },
        "id": "MQ5Rz04zQ6v3"
      },
      "outputs": [],
      "source": [
        "assert assign_care_coordinator('None', 0, 4, False, 1) == False\n",
        "assert assign_care_coordinator('CHF', 0, 4, False, 1) == True\n",
        "assert assign_care_coordinator('COPD', 0, 4, False, 1) == True\n",
        "assert assign_care_coordinator('None', 7, 4, True, 4) == True\n",
        "assert assign_care_coordinator('CHF', 7, 4, True, 4) == True"
      ]
    },
    {
      "cell_type": "code",
      "execution_count": null,
      "metadata": {
        "id": "dNTttZfpQ6v4"
      },
      "outputs": [],
      "source": []
    },
    {
      "cell_type": "markdown",
      "metadata": {
        "id": "YzEcDBvSQ6v4"
      },
      "source": [
        "### 14.5 qCSI COVID-19 Severity Index\n",
        "\n",
        "See: https://www.mdcalc.com/quick-covid-19-severity-index-qcsi#evidence\n",
        "\n",
        "Calculate the total risk score as per the point values assigned to respiratory rate, pulse oximetry, and O2 flow rate.  Then calculate and return the Risk Level.\n",
        "\n",
        "In addition to the rules provided at the link above, also add the following checks for valid values:\n",
        "* If `respiratory_rate <= 0` then return _invalid respiratory rate_\n",
        "* If `pulse_ox <= 0` then return _invalid pulse ox_\n",
        "* If `pulse_ox > 100` then return _invalid pulse ox_\n",
        "* If `os_flow <= 0` then return _invalid O2 flow rate_"
      ]
    },
    {
      "cell_type": "code",
      "execution_count": 15,
      "metadata": {
        "id": "wLuib9RvQ6v4"
      },
      "outputs": [],
      "source": [
        "def qcsi(respiratory_rate, pulse_ox, o2_flow):\n",
        "    \"\"\"(int, int, int) -> str\n",
        "    * respiratory_rate is an integer value\n",
        "    * pulse_ox is an integer value (e.g. 30 means 30%)\n",
        "    * o2_flow is an integer value\n",
        "    \"\"\"\n",
        "\n",
        "    ### BEGIN SOLUTION\n",
        "        # Validate input values\n",
        "    if respiratory_rate <= 0:\n",
        "        return \"invalid respiratory rate\"\n",
        "    if pulse_ox <= 0 or pulse_ox > 100:\n",
        "        return \"invalid pulse ox\"\n",
        "    if o2_flow <= 0:\n",
        "        return \"invalid O2 flow rate\"\n",
        "\n",
        "        # Calculate points for respiratory rate\n",
        "    if respiratory_rate <= 19:\n",
        "        rr_points = 0\n",
        "    elif 20 <= respiratory_rate <= 29:\n",
        "        rr_points = 1\n",
        "    elif 30 <= respiratory_rate <= 39:\n",
        "        rr_points = 2\n",
        "    else:  # respiratory_rate >= 40\n",
        "        rr_points = 3\n",
        "\n",
        "        # Calculate points for pulse oximetry\n",
        "    if pulse_ox == 100:\n",
        "        pulse_ox_points = 0\n",
        "    elif 90 <= pulse_ox <= 99:\n",
        "        pulse_ox_points = 1\n",
        "    else:  # pulse_ox < 90\n",
        "        pulse_ox_points = 2\n",
        "\n",
        "        # Calculate points for O2 flow rate\n",
        "    if o2_flow == 0:\n",
        "        o2_flow_points = 0\n",
        "    elif 0 < o2_flow <= 1:\n",
        "        o2_flow_points = 1\n",
        "    elif 2 <= o2_flow <= 4:\n",
        "        o2_flow_points = 2\n",
        "    else:  # o2_flow > 4\n",
        "        o2_flow_points = 3\n",
        "\n",
        "        # Calculate total risk score\n",
        "    total_score = rr_points + pulse_ox_points + o2_flow_points\n",
        "\n",
        "        # Determine risk level\n",
        "    if total_score <= 2:\n",
        "        risk = \"low\"\n",
        "    elif 3 <= total_score <= 4:\n",
        "        risk = \"low-intermediate\"\n",
        "    elif 5 <= total_score <= 6:\n",
        "        risk = \"high-intermediate\"\n",
        "    else:  # total_score >= 7\n",
        "        risk = \"high\"\n",
        "\n",
        "    ### END SOLUTION\n",
        "\n",
        "    return risk"
      ]
    },
    {
      "cell_type": "code",
      "execution_count": 20,
      "metadata": {
        "id": "9IW9AqVyQ6v4"
      },
      "outputs": [],
      "source": [
        "assert (qcsi(29, 95, 1) == 'low-intermediate')\n",
        "assert (qcsi(20, 93, 1) == 'low-intermediate')\n",
        "assert (qcsi(29, 88, 1) == 'low-intermediate')\n",
        "assert (qcsi(29, 88, 4) == 'high-intermediate')\n",
        "assert (qcsi(30, 90, 1) == 'low-intermediate')\n",
        "assert (qcsi(28, 92, -1) == 'invalid O2 flow rate')\n",
        "assert (qcsi(22, 0, 4) == 'invalid pulse ox')\n",
        "assert (qcsi(0, 97, 2) == 'invalid respiratory rate')"
      ]
    },
    {
      "cell_type": "markdown",
      "metadata": {
        "id": "-xRtIRqJQ6v4"
      },
      "source": [
        "---\n",
        "\n",
        "## Check your work above\n",
        "\n",
        "If you didn't get them all correct, take a few minutes to think through those that aren't correct.\n",
        "\n",
        "\n",
        "## Submitting Your Work\n",
        "\n",
        "In order to submit your work, you'll need to save this notebook file back to GitHub.  To do that in Google Colab:\n",
        "1. File -> Save a Copy in GitHub\n",
        "2. Make sure your HDS5210 repository is selected\n",
        "3. Make sure the file name includes the week number like this: `week03/week03_assignment_2.ipynb`\n",
        "4. Add a commit message that means something\n",
        "\n",
        "**Be sure week names are lowercase and use a two digit week number!!**\n",
        "\n",
        "**Be sure you use the same file name provided by the instructor!!**\n",
        "\n"
      ]
    },
    {
      "cell_type": "markdown",
      "metadata": {
        "id": "Db7HbCnvQ6v4"
      },
      "source": [
        "---"
      ]
    }
  ],
  "metadata": {
    "celltoolbar": "Create Assignment",
    "kernelspec": {
      "display_name": "Python 3",
      "language": "python",
      "name": "python3"
    },
    "language_info": {
      "codemirror_mode": {
        "name": "ipython",
        "version": 3
      },
      "file_extension": ".py",
      "mimetype": "text/x-python",
      "name": "python",
      "nbconvert_exporter": "python",
      "pygments_lexer": "ipython3",
      "version": "3.6.7"
    },
    "colab": {
      "provenance": []
    }
  },
  "nbformat": 4,
  "nbformat_minor": 0
}